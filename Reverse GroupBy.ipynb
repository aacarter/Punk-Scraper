{
 "cells": [
  {
   "cell_type": "code",
   "execution_count": 16,
   "metadata": {},
   "outputs": [],
   "source": [
    "import pandas as pd\n",
    "from pandas import Series"
   ]
  },
  {
   "cell_type": "code",
   "execution_count": 17,
   "metadata": {},
   "outputs": [],
   "source": [
    "punkdata = pd.read_csv(\"punkdatatest.csv\")"
   ]
  },
  {
   "cell_type": "code",
   "execution_count": 18,
   "metadata": {},
   "outputs": [
    {
     "data": {
      "text/html": [
       "<div>\n",
       "<style scoped>\n",
       "    .dataframe tbody tr th:only-of-type {\n",
       "        vertical-align: middle;\n",
       "    }\n",
       "\n",
       "    .dataframe tbody tr th {\n",
       "        vertical-align: top;\n",
       "    }\n",
       "\n",
       "    .dataframe thead th {\n",
       "        text-align: right;\n",
       "    }\n",
       "</style>\n",
       "<table border=\"1\" class=\"dataframe\">\n",
       "  <thead>\n",
       "    <tr style=\"text-align: right;\">\n",
       "      <th></th>\n",
       "      <th>CryptoPunkId</th>\n",
       "      <th>URL</th>\n",
       "      <th>type</th>\n",
       "      <th>Accessory Count</th>\n",
       "      <th>accessory</th>\n",
       "    </tr>\n",
       "  </thead>\n",
       "  <tbody>\n",
       "    <tr>\n",
       "      <th>0</th>\n",
       "      <td>0</td>\n",
       "      <td>https://www.larvalabs.com/cryptopunks/details/0</td>\n",
       "      <td>Female</td>\n",
       "      <td>3</td>\n",
       "      <td>Green Eye Shadow,Earring,Blonde Bob</td>\n",
       "    </tr>\n",
       "    <tr>\n",
       "      <th>1</th>\n",
       "      <td>1</td>\n",
       "      <td>https://www.larvalabs.com/cryptopunks/details/1</td>\n",
       "      <td>Male</td>\n",
       "      <td>2</td>\n",
       "      <td>Smile,Mohawk</td>\n",
       "    </tr>\n",
       "    <tr>\n",
       "      <th>2</th>\n",
       "      <td>2</td>\n",
       "      <td>https://www.larvalabs.com/cryptopunks/details/2</td>\n",
       "      <td>Female</td>\n",
       "      <td>1</td>\n",
       "      <td>Wild Hair</td>\n",
       "    </tr>\n",
       "    <tr>\n",
       "      <th>3</th>\n",
       "      <td>3</td>\n",
       "      <td>https://www.larvalabs.com/cryptopunks/details/3</td>\n",
       "      <td>Male</td>\n",
       "      <td>3</td>\n",
       "      <td>Wild Hair,Nerd Glasses,Pipe</td>\n",
       "    </tr>\n",
       "    <tr>\n",
       "      <th>4</th>\n",
       "      <td>4</td>\n",
       "      <td>https://www.larvalabs.com/cryptopunks/details/4</td>\n",
       "      <td>Male</td>\n",
       "      <td>4</td>\n",
       "      <td>Big Shades,Wild Hair,Earring,Goat</td>\n",
       "    </tr>\n",
       "  </tbody>\n",
       "</table>\n",
       "</div>"
      ],
      "text/plain": [
       "   CryptoPunkId                                              URL    type  \\\n",
       "0             0  https://www.larvalabs.com/cryptopunks/details/0  Female   \n",
       "1             1  https://www.larvalabs.com/cryptopunks/details/1    Male   \n",
       "2             2  https://www.larvalabs.com/cryptopunks/details/2  Female   \n",
       "3             3  https://www.larvalabs.com/cryptopunks/details/3    Male   \n",
       "4             4  https://www.larvalabs.com/cryptopunks/details/4    Male   \n",
       "\n",
       "   Accessory Count                            accessory  \n",
       "0                3  Green Eye Shadow,Earring,Blonde Bob  \n",
       "1                2                         Smile,Mohawk  \n",
       "2                1                            Wild Hair  \n",
       "3                3          Wild Hair,Nerd Glasses,Pipe  \n",
       "4                4    Big Shades,Wild Hair,Earring,Goat  "
      ]
     },
     "execution_count": 18,
     "metadata": {},
     "output_type": "execute_result"
    }
   ],
   "source": [
    "punkdata.head()"
   ]
  },
  {
   "cell_type": "code",
   "execution_count": 20,
   "metadata": {},
   "outputs": [
    {
     "data": {
      "text/plain": [
       "0         Green Eye Shadow\n",
       "0                  Earring\n",
       "0               Blonde Bob\n",
       "1                    Smile\n",
       "1                   Mohawk\n",
       "2                Wild Hair\n",
       "3                Wild Hair\n",
       "3             Nerd Glasses\n",
       "3                     Pipe\n",
       "4               Big Shades\n",
       "4                Wild Hair\n",
       "4                  Earring\n",
       "4                     Goat\n",
       "5        Purple Eye Shadow\n",
       "5              Half Shaved\n",
       "5                  Earring\n",
       "6                   Do-rag\n",
       "7          Wild White Hair\n",
       "7                    Spots\n",
       "7          Clown Eyes Blue\n",
       "8               Messy Hair\n",
       "8          Luxurious Beard\n",
       "9               Clown Nose\n",
       "9               Police Cap\n",
       "9                Big Beard\n",
       "10         Blue Eye Shadow\n",
       "10                  Mohawk\n",
       "11          Black Lipstick\n",
       "11        Clown Eyes Green\n",
       "11      Straight Hair Dark\n",
       "               ...        \n",
       "9989          Pilot Helmet\n",
       "9989          Hot Lipstick\n",
       "9989             Cigarette\n",
       "9990    Horned Rim Glasses\n",
       "9990                Mohawk\n",
       "9991                Beanie\n",
       "9991           Muttonchops\n",
       "9991               Earring\n",
       "9991        Regular Shades\n",
       "9992               Bandana\n",
       "9992             Chinstrap\n",
       "9992                 Smile\n",
       "9993                   Cap\n",
       "9993          Shadow Beard\n",
       "9993          Nerd Glasses\n",
       "9994      Green Eye Shadow\n",
       "9994          Blonde Short\n",
       "9995     Purple Eye Shadow\n",
       "9995    Straight Hair Dark\n",
       "9996             Cigarette\n",
       "9996               Earring\n",
       "9996            Crazy Hair\n",
       "9996                 Smile\n",
       "9997           Front Beard\n",
       "9997           Cap Forward\n",
       "9998       Wild White Hair\n",
       "9998        Black Lipstick\n",
       "9998      Clown Eyes Green\n",
       "9999                Mohawk\n",
       "9999          Nerd Glasses\n",
       "Name: accessory, Length: 27550, dtype: object"
      ]
     },
     "execution_count": 20,
     "metadata": {},
     "output_type": "execute_result"
    }
   ],
   "source": [
    "s = punkdata['accessory'].str.split(',').apply(Series, 1).stack()\n",
    "s.index = s.index.droplevel(-1)\n",
    "s.name = 'accessory'\n",
    "s"
   ]
  },
  {
   "cell_type": "code",
   "execution_count": 21,
   "metadata": {},
   "outputs": [],
   "source": [
    "del punkdata['accessory']"
   ]
  },
  {
   "cell_type": "code",
   "execution_count": 23,
   "metadata": {},
   "outputs": [],
   "source": [
    "df = punkdata.join(s)"
   ]
  },
  {
   "cell_type": "code",
   "execution_count": 24,
   "metadata": {},
   "outputs": [],
   "source": [
    "df.to_csv(\"punkdatause.csv\",index=False)"
   ]
  },
  {
   "cell_type": "code",
   "execution_count": null,
   "metadata": {},
   "outputs": [],
   "source": []
  }
 ],
 "metadata": {
  "kernelspec": {
   "display_name": "Python [conda env:PythonData]",
   "language": "python",
   "name": "conda-env-PythonData-py"
  },
  "language_info": {
   "codemirror_mode": {
    "name": "ipython",
    "version": 3
   },
   "file_extension": ".py",
   "mimetype": "text/x-python",
   "name": "python",
   "nbconvert_exporter": "python",
   "pygments_lexer": "ipython3",
   "version": "3.6.5"
  }
 },
 "nbformat": 4,
 "nbformat_minor": 2
}
